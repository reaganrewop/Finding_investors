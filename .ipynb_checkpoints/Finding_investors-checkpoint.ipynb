{
 "cells": [
  {
   "cell_type": "markdown",
   "metadata": {},
   "source": [
    " #                                   F22 Labs project 1"
   ]
  },
  {
   "cell_type": "code",
   "execution_count": null,
   "metadata": {},
   "outputs": [],
   "source": [
    "import urllib.request,json\n",
    "import pandas as pd\n",
    "import re\n",
    "import itertools\n",
    "import operator\n",
    "%matplotlib inline"
   ]
  },
  {
   "cell_type": "markdown",
   "metadata": {},
   "source": [
    "The above code Imports all the necessary packages needed. I have considered json to be better than pickles."
   ]
  },
  {
   "cell_type": "code",
   "execution_count": null,
   "metadata": {},
   "outputs": [],
   "source": [
    "with urllib.request.urlopen(\"https://gist.githubusercontent.com/murtuzakz/4bd887712703ff14c9b0f7c18229b332/raw/d0dd1c59016e2488dcbe0c8e710a1c5df9c3672e/season7.json\") as url:\n",
    "    data = json.loads(url.read().decode())\n",
    "print (json.dumps((data[\"Episode 1\"])[0], sort_keys=False, indent=2))\n",
    "    "
   ]
  },
  {
   "cell_type": "markdown",
   "metadata": {},
   "source": [
    "Using the given json url, i have read the data using loads & stored it in data var."
   ]
  },
  {
   "cell_type": "code",
   "execution_count": null,
   "metadata": {},
   "outputs": [],
   "source": [
    "temp = list(data.keys())\n",
    "df = pd.DataFrame( [[ ((data[y])[x])['investors'] for x in range(0,4) ] for y in temp],index=[x for x in temp], columns=[\"Invester 1\", \"Invester 2\", \"Invester 3\",\"Invester 4\"])"
   ]
  },
  {
   "cell_type": "markdown",
   "metadata": {},
   "source": [
    "Creating a pandas Dataframe using json data."
   ]
  },
  {
   "cell_type": "code",
   "execution_count": null,
   "metadata": {},
   "outputs": [],
   "source": [
    "list1 = [[ ((data[y])[x])['kitna'] for x in range(0,4) ] for y in temp]\n",
    "list2 = [[ (((data[y])[x])['company'])['title'] for x in range(0,4) ] for y in temp]\n",
    "df.insert(loc=1,column=\"Kitna for Investor 1\",value=[list1[x][0] for x in range(0,len(temp))])\n",
    "df.insert(loc=3,column=\"Kitna for Investor 2\",value=[list1[x][1] for x in range(0,len(temp))])\n",
    "df.insert(loc=5,column=\"Kitna for Investor 3\",value=[list1[x][2] for x in range(0,len(temp))])\n",
    "df.insert(loc=7,column=\"Kitna for Investor 4\",value=[list1[x][3] for x in range(0,len(temp))])\n",
    "df.insert(loc=2,column=\"Company title for Investor 1\",value=[list2[x][0] for x in range(0,len(temp))])\n",
    "df.insert(loc=5,column=\"company title for Investor 2\",value=[list2[x][1] for x in range(0,len(temp))])\n",
    "df.insert(loc=8,column=\"company title for Investor 3\",value=[list2[x][2] for x in range(0,len(temp))])\n",
    "df.insert(loc=11,column=\"company title for Investor 4\",value=[list2[x][3] for x in range(0,len(temp))])\n",
    "display (df)"
   ]
  },
  {
   "cell_type": "markdown",
   "metadata": {},
   "source": [
    "The above code, extracts the money invested with company title. It is displayed above."
   ]
  },
  {
   "cell_type": "code",
   "execution_count": null,
   "metadata": {},
   "outputs": [],
   "source": [
    "record = {}\n",
    "al = {}\n",
    "inv = [[ ((data[y])[x])['investors'] for x in range(0,4) ] for y in temp]"
   ]
  },
  {
   "cell_type": "code",
   "execution_count": null,
   "metadata": {},
   "outputs": [],
   "source": [
    "for i,j in itertools.product(range(0,24),range(0,4)):\n",
    "    if (inv[i][j] in record and inv[i][j]!=' '):\n",
    "        if(inv[i][j] in al):\n",
    "            al[inv[i][j]] = al[inv[i][j]]+1\n",
    "        else:\n",
    "            al[inv[i][j]] = 1\n",
    "    record[inv[i][j]] = list2[i][j]\n"
   ]
  },
  {
   "cell_type": "markdown",
   "metadata": {},
   "source": [
    "investors contain all the investors in the data"
   ]
  },
  {
   "cell_type": "code",
   "execution_count": null,
   "metadata": {},
   "outputs": [],
   "source": [
    "def adddict(x,y):\n",
    "    if (x not in al):\n",
    "        al.update({x:y})\n",
    "    else:\n",
    "        al[x]=al[x]+1\n",
    "for i in list(al.keys()):\n",
    "    t = re.split(' and |,|\\\\\\n',i)\n",
    "    if(len(t)>1):\n",
    "        for q in t:\n",
    "            adddict(q,al[q])\n",
    "        del al[i]"
   ]
  },
  {
   "cell_type": "markdown",
   "metadata": {},
   "source": [
    "split the investors table which has multiple names."
   ]
  },
  {
   "cell_type": "code",
   "execution_count": null,
   "metadata": {},
   "outputs": [],
   "source": [
    "def adddict2(x,y):\n",
    "    if (x in al):\n",
    "        al[x]=al[x]+1\n",
    "    elif (x in record):\n",
    "        al[x]=1\n",
    "    else:\n",
    "        record[x]=y\n",
    "for i in list(record.keys()):\n",
    "    t = re.split(' and |,|\\\\\\n',i)\n",
    "    if(len(t)>1):\n",
    "        for q in t:\n",
    "            adddict2(q,record[i])\n",
    "        del record[i]"
   ]
  },
  {
   "cell_type": "code",
   "execution_count": null,
   "metadata": {},
   "outputs": [],
   "source": [
    "def adddict3(x):\n",
    "    if (x in al):\n",
    "        al[x]=al[x]+1\n",
    "    else:\n",
    "        al[x]=1\n",
    "for i in list(record.keys()):\n",
    "    adddict3(i)"
   ]
  },
  {
   "cell_type": "markdown",
   "metadata": {},
   "source": [
    "And Count the number of times investors has invested."
   ]
  },
  {
   "cell_type": "code",
   "execution_count": null,
   "metadata": {},
   "outputs": [],
   "source": [
    "del al['']\n",
    "al['Kevin O’ Leary'] = al['Kevin O’ Leary']+1\n",
    "del al['Kevin O’Leary']"
   ]
  },
  {
   "cell_type": "markdown",
   "metadata": {},
   "source": [
    "corrupted data is modified."
   ]
  },
  {
   "cell_type": "code",
   "execution_count": null,
   "metadata": {},
   "outputs": [],
   "source": [
    "al_s = sorted(al.items(), key=operator.itemgetter(1), reverse=True)"
   ]
  },
  {
   "cell_type": "markdown",
   "metadata": {},
   "source": [
    "Data is Sorted based on the No. of Investments."
   ]
  },
  {
   "cell_type": "code",
   "execution_count": null,
   "metadata": {},
   "outputs": [],
   "source": [
    "record_f = []"
   ]
  },
  {
   "cell_type": "code",
   "execution_count": null,
   "metadata": {},
   "outputs": [],
   "source": [
    "al_s = [list(x) for x in al_s]"
   ]
  },
  {
   "cell_type": "code",
   "execution_count": null,
   "metadata": {},
   "outputs": [],
   "source": [
    "for i in [[x for x in al_s[y]]for y in range(len(al_s))]:\n",
    "    for index in temp:\n",
    "        for col in range(0,4):\n",
    "            inv = ((data[index])[col])['investors']\n",
    "            x = [x for x in al_s if i[0] in x][0]\n",
    "            if (i[0] in inv):\n",
    "                al_s[al_s.index(x)].append(((data[index])[col])['company']['title'])\n",
    "            "
   ]
  },
  {
   "cell_type": "markdown",
   "metadata": {},
   "source": [
    "Gather all the Companies, in which the investors have invested in."
   ]
  },
  {
   "cell_type": "code",
   "execution_count": null,
   "metadata": {},
   "outputs": [],
   "source": [
    "cln = ['Investor','No of Investment']\n",
    "for x in range(23):\n",
    "    cln.append(x)"
   ]
  },
  {
   "cell_type": "code",
   "execution_count": null,
   "metadata": {},
   "outputs": [],
   "source": [
    "final = pd.DataFrame(al_s,columns=cln)\n",
    "final = final.drop('No of Investment',axis=1)"
   ]
  },
  {
   "cell_type": "code",
   "execution_count": null,
   "metadata": {
    "scrolled": true
   },
   "outputs": [],
   "source": [
    "display(final)"
   ]
  },
  {
   "cell_type": "markdown",
   "metadata": {},
   "source": [
    "The final Table with Investors and Company they invested in, is reported."
   ]
  },
  {
   "cell_type": "code",
   "execution_count": null,
   "metadata": {},
   "outputs": [],
   "source": [
    "final.to_csv('out.csv')"
   ]
  },
  {
   "cell_type": "markdown",
   "metadata": {},
   "source": [
    "For better Reading. Storing it as csv."
   ]
  },
  {
   "cell_type": "code",
   "execution_count": null,
   "metadata": {},
   "outputs": [],
   "source": []
  }
 ],
 "metadata": {
  "kernelspec": {
   "display_name": "Python 3",
   "language": "python",
   "name": "python3"
  },
  "language_info": {
   "codemirror_mode": {
    "name": "ipython",
    "version": 3
   },
   "file_extension": ".py",
   "mimetype": "text/x-python",
   "name": "python",
   "nbconvert_exporter": "python",
   "pygments_lexer": "ipython3",
   "version": "3.6.3"
  }
 },
 "nbformat": 4,
 "nbformat_minor": 2
}
